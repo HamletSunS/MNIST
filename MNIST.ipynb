{
 "cells": [
  {
   "cell_type": "code",
   "execution_count": 1,
   "metadata": {},
   "outputs": [],
   "source": [
    "import torch\n",
    "from torch.autograd import Variable\n",
    "from torch.nn import Parameter\n",
    "from torch.utils.data import DataLoader\n",
    "\n",
    "from torchvision.datasets import mnist\n",
    "\n",
    "from torch import nn\n",
    "\n",
    "import numpy as np\n",
    "import pandas as pd\n",
    "import matplotlib.pyplot as plt\n",
    "\n",
    "import os,time"
   ]
  },
  {
   "cell_type": "code",
   "execution_count": 9,
   "metadata": {},
   "outputs": [],
   "source": [
    "train_set=mnist.MNIST('./data/',train=True)\n",
    "test_set=mnist.MNIST('./data/',train=False)"
   ]
  },
  {
   "cell_type": "code",
   "execution_count": 14,
   "metadata": {},
   "outputs": [],
   "source": [
    "def data_df(x):\n",
    "    x=np.array(x)/255\n",
    "    x=(x-0.5)/0.5\n",
    "    x=x.reshape((-1,))\n",
    "    x=torch.Tensor(x).float()\n",
    "    return x"
   ]
  },
  {
   "cell_type": "code",
   "execution_count": 16,
   "metadata": {},
   "outputs": [],
   "source": [
    "train_set=mnist.MNIST('./data/',train=True,transform=data_df)\n",
    "test_set=mnist.MNIST('./data/',train=False,transform=data_df)"
   ]
  },
  {
   "cell_type": "code",
   "execution_count": 20,
   "metadata": {},
   "outputs": [],
   "source": [
    "train_data=DataLoader(train_set,batch_size=64,shuffle=True)\n",
    "test_data=DataLoader(test_set,batch_size=128,shuffle=False)"
   ]
  },
  {
   "cell_type": "code",
   "execution_count": 26,
   "metadata": {},
   "outputs": [],
   "source": [
    "net=nn.Sequential(\n",
    "    nn.Linear(784,400),\n",
    "    nn.ReLU(),\n",
    "    nn.Linear(400,200),\n",
    "    nn.ReLU(),\n",
    "    nn.Linear(200,100),\n",
    "    nn.ReLU(),\n",
    "    nn.Linear(100,10)\n",
    ")"
   ]
  },
  {
   "cell_type": "code",
   "execution_count": 28,
   "metadata": {},
   "outputs": [],
   "source": [
    "criterion=nn.CrossEntropyLoss()\n",
    "optimizer=torch.optim.SGD(net.parameters(),lr=.1)"
   ]
  },
  {
   "cell_type": "code",
   "execution_count": 30,
   "metadata": {
    "collapsed": true
   },
   "outputs": [
    {
     "name": "stdout",
     "output_type": "stream",
     "text": [
      "epoch:1 train_loss:159.3747474476695 test_loss:16.50667974539101 train_acc:0.946911633014679 test_acc:0.9358188509941101\n",
      "epoch:2 train_loss:112.87833075970411 test_loss:32.60004784911871 train_acc:0.962619960308075 test_acc:0.8525514006614685\n",
      "epoch:3 train_loss:88.16598168760538 test_loss:7.459538152441382 train_acc:0.970565676689148 test_acc:0.9712222814559937\n",
      "epoch:4 train_loss:69.83614106476307 test_loss:6.245580837130547 train_acc:0.9765791296958923 test_acc:0.9758702516555786\n",
      "epoch:5 train_loss:58.382567312568426 test_loss:11.839364130049944 train_acc:0.9799273610115051 test_acc:0.9551028609275818\n",
      "epoch:6 train_loss:50.06894477084279 test_loss:31.213485591113567 train_acc:0.9831756353378296 test_acc:0.9075356125831604\n",
      "epoch:7 train_loss:42.63823311962187 test_loss:6.155238473787904 train_acc:0.9849913120269775 test_acc:0.9757713675498962\n",
      "epoch:8 train_loss:37.24673214368522 test_loss:7.030034746974707 train_acc:0.9869070053100586 test_acc:0.9755735993385315\n",
      "epoch:9 train_loss:32.34290213882923 test_loss:5.711863752454519 train_acc:0.9884728193283081 test_acc:0.9789358973503113\n",
      "epoch:10 train_loss:31.123012233525515 test_loss:5.162187477573752 train_acc:0.9886060953140259 test_acc:0.9821004867553711\n",
      "epoch:11 train_loss:24.76836536079645 test_loss:8.579366544261575 train_acc:0.9912880063056946 test_acc:0.9712222814559937\n",
      "epoch:12 train_loss:20.739579305052757 test_loss:6.41740059107542 train_acc:0.9930869936943054 test_acc:0.9773536324501038\n",
      "epoch:13 train_loss:17.186643335968256 test_loss:5.933499084785581 train_acc:0.9943363666534424 test_acc:0.9791337251663208\n",
      "epoch:14 train_loss:15.365847490727901 test_loss:7.812596924602985 train_acc:0.9943529963493347 test_acc:0.9746835231781006\n",
      "epoch:15 train_loss:11.885305112227798 test_loss:8.91525916941464 train_acc:0.9960187673568726 test_acc:0.9709256291389465\n",
      "epoch:16 train_loss:14.064847741276026 test_loss:5.7165244817733765 train_acc:0.9950526356697083 test_acc:0.9800237417221069\n",
      "epoch:17 train_loss:9.53113267570734 test_loss:6.798255993053317 train_acc:0.9969183206558228 test_acc:0.9792326092720032\n",
      "epoch:18 train_loss:10.613442659378052 test_loss:5.685085179284215 train_acc:0.9963352680206299 test_acc:0.9822982549667358\n",
      "epoch:19 train_loss:6.962793663144112 test_loss:5.743829287588596 train_acc:0.9976012706756592 test_acc:0.9821993708610535\n",
      "epoch:20 train_loss:6.447130560874939 test_loss:6.549771806225181 train_acc:0.9979677796363831 test_acc:0.9805182218551636\n"
     ]
    }
   ],
   "source": [
    "losses=[]\n",
    "acces=[]\n",
    "eval_losses=[]\n",
    "eval_acces=[]\n",
    "\n",
    "for i in range(20):\n",
    "    train_loss=0\n",
    "    train_acc=0\n",
    "    net.train()\n",
    "    \n",
    "    for im,label in train_data:\n",
    "        out=net(im)\n",
    "        loss=criterion(out,label)\n",
    "        \n",
    "        optimizer.zero_grad()\n",
    "        loss.backward()\n",
    "        optimizer.step()\n",
    "        \n",
    "        train_loss+=loss.data.numpy()\n",
    "        _,pred=out.max(1)\n",
    "        acc=(pred==label).float().sum()/im.shape[0]\n",
    "        train_acc+=acc\n",
    "    losses.append(train_loss)\n",
    "    acces.append(train_acc/len(train_data))\n",
    "    \n",
    "    eval_loss=0\n",
    "    eval_acc=0\n",
    "    net.eval()\n",
    "    \n",
    "    for im,label in test_data:\n",
    "        out=net(im)\n",
    "        loss=criterion(out,label)\n",
    "        \n",
    "        eval_loss+=loss.data.numpy()\n",
    "        \n",
    "        _,pred=out.max(1)\n",
    "        acc=(pred==label).float().sum()/im.shape[0]\n",
    "        eval_acc+=acc\n",
    "        \n",
    "    eval_losses.append(eval_loss/len(test_data))\n",
    "    eval_acces.append(eval_acc/len(test_data))\n",
    "    \n",
    "    print('epoch:{} train_loss:{} test_loss:{} train_acc:{} test_acc:{}'.format(i+1,train_loss/len(train_data),eval_loss/len(test_data),train_acc/len(train_data),eval_acc/len(test_data)))"
   ]
  },
  {
   "cell_type": "code",
   "execution_count": null,
   "metadata": {},
   "outputs": [],
   "source": []
  }
 ],
 "metadata": {
  "kernelspec": {
   "display_name": "Python 3",
   "language": "python",
   "name": "python3"
  },
  "language_info": {
   "codemirror_mode": {
    "name": "ipython",
    "version": 3
   },
   "file_extension": ".py",
   "mimetype": "text/x-python",
   "name": "python",
   "nbconvert_exporter": "python",
   "pygments_lexer": "ipython3",
   "version": "3.7.1"
  }
 },
 "nbformat": 4,
 "nbformat_minor": 2
}
